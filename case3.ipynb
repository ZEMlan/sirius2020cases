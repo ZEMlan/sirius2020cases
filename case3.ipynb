{
 "cells": [
  {
   "cell_type": "code",
   "execution_count": 94,
   "metadata": {},
   "outputs": [
    {
     "name": "stdout",
     "output_type": "stream",
     "text": [
      "0.23.4\n"
     ]
    },
    {
     "ename": "AttributeError",
     "evalue": "'DataFrame' object has no attribute 'to_numpy'",
     "output_type": "error",
     "traceback": [
      "\u001b[1;31m---------------------------------------------------------------------------\u001b[0m",
      "\u001b[1;31mAttributeError\u001b[0m                            Traceback (most recent call last)",
      "\u001b[1;32m<ipython-input-94-c0d2ea23645b>\u001b[0m in \u001b[0;36m<module>\u001b[1;34m\u001b[0m\n\u001b[0;32m     63\u001b[0m     \u001b[1;32mreturn\u001b[0m \u001b[0mhits\u001b[0m\u001b[1;33m/\u001b[0m\u001b[0mlen\u001b[0m\u001b[1;33m(\u001b[0m\u001b[0mtest_set\u001b[0m\u001b[1;33m)\u001b[0m\u001b[1;33m\u001b[0m\u001b[1;33m\u001b[0m\u001b[0m\n\u001b[0;32m     64\u001b[0m \u001b[1;33m\u001b[0m\u001b[0m\n\u001b[1;32m---> 65\u001b[1;33m \u001b[0mfeatures\u001b[0m \u001b[1;33m=\u001b[0m \u001b[1;33m[\u001b[0m\u001b[1;33m(\u001b[0m\u001b[0mget_features\u001b[0m\u001b[1;33m(\u001b[0m\u001b[0mx\u001b[0m\u001b[1;33m)\u001b[0m\u001b[1;33m,\u001b[0m \u001b[0my\u001b[0m\u001b[1;33m)\u001b[0m \u001b[1;32mfor\u001b[0m \u001b[0mx\u001b[0m\u001b[1;33m,\u001b[0m \u001b[0my\u001b[0m \u001b[1;32min\u001b[0m \u001b[0mdf\u001b[0m\u001b[1;33m.\u001b[0m\u001b[0mto_numpy\u001b[0m\u001b[1;33m(\u001b[0m\u001b[1;33m)\u001b[0m\u001b[1;33m]\u001b[0m\u001b[1;33m\u001b[0m\u001b[1;33m\u001b[0m\u001b[0m\n\u001b[0m\u001b[0;32m     66\u001b[0m \u001b[0mc\u001b[0m \u001b[1;33m=\u001b[0m \u001b[0mlen\u001b[0m\u001b[1;33m(\u001b[0m\u001b[0mfeatures\u001b[0m\u001b[1;33m)\u001b[0m\u001b[1;33m//\u001b[0m\u001b[1;36m2\u001b[0m\u001b[1;33m\u001b[0m\u001b[1;33m\u001b[0m\u001b[0m\n\u001b[0;32m     67\u001b[0m \u001b[0mtrain_set\u001b[0m\u001b[1;33m,\u001b[0m \u001b[0mtest_set\u001b[0m \u001b[1;33m=\u001b[0m \u001b[0mfeatures\u001b[0m\u001b[1;33m[\u001b[0m\u001b[1;33m:\u001b[0m\u001b[1;33m-\u001b[0m\u001b[0mc\u001b[0m\u001b[1;33m]\u001b[0m\u001b[1;33m,\u001b[0m \u001b[0mfeatures\u001b[0m\u001b[1;33m[\u001b[0m\u001b[1;33m-\u001b[0m\u001b[0mc\u001b[0m\u001b[1;33m:\u001b[0m\u001b[1;33m]\u001b[0m\u001b[1;33m\u001b[0m\u001b[1;33m\u001b[0m\u001b[0m\n",
      "\u001b[1;32mC:\\Anaconda3\\lib\\site-packages\\pandas\\core\\generic.py\u001b[0m in \u001b[0;36m__getattr__\u001b[1;34m(self, name)\u001b[0m\n\u001b[0;32m   4374\u001b[0m         \u001b[1;33m>>\u001b[0m\u001b[1;33m>\u001b[0m \u001b[0mdf\u001b[0m\u001b[1;33m\u001b[0m\u001b[1;33m\u001b[0m\u001b[0m\n\u001b[0;32m   4375\u001b[0m                    \u001b[0mhttp_status\u001b[0m  \u001b[0mresponse_time\u001b[0m\u001b[1;33m\u001b[0m\u001b[1;33m\u001b[0m\u001b[0m\n\u001b[1;32m-> 4376\u001b[1;33m         \u001b[0mFirefox\u001b[0m            \u001b[1;36m200\u001b[0m           \u001b[1;36m0.04\u001b[0m\u001b[1;33m\u001b[0m\u001b[1;33m\u001b[0m\u001b[0m\n\u001b[0m\u001b[0;32m   4377\u001b[0m         \u001b[0mChrome\u001b[0m             \u001b[1;36m200\u001b[0m           \u001b[1;36m0.02\u001b[0m\u001b[1;33m\u001b[0m\u001b[1;33m\u001b[0m\u001b[0m\n\u001b[0;32m   4378\u001b[0m         \u001b[0mSafari\u001b[0m             \u001b[1;36m404\u001b[0m           \u001b[1;36m0.07\u001b[0m\u001b[1;33m\u001b[0m\u001b[1;33m\u001b[0m\u001b[0m\n",
      "\u001b[1;31mAttributeError\u001b[0m: 'DataFrame' object has no attribute 'to_numpy'"
     ]
    }
   ],
   "source": [
    "from __future__ import division\n",
    "from collections import defaultdict\n",
    "from math import log\n",
    "\n",
    "import pandas as pd\n",
    "print(pd.__version__)\n",
    "import numpy as np\n",
    "\n",
    "\n",
    "# read datasets from .csv\n",
    "df_women = pd.read_csv('case3women.csv', sep=';', error_bad_lines=False, encoding='cp1251')\n",
    "df_women.columns = ['ID', 'X', 'NumberOfPersons', 'global_id', 'Year', 'Month', ' ']\n",
    "label = ['ж']*len(df_women['X'])\n",
    "df_women['Y'] = np.array(label)\n",
    "\n",
    "df_men = pd.read_csv('case3men.csv', sep=';', error_bad_lines=False, encoding='cp1251')\n",
    "df_men.columns = ['ID', 'X', 'NumberOfPersons', 'global_id', 'Year', 'Month', ' ']\n",
    "label = ['м']*len(df_men['X'])\n",
    "df_men['Y'] = np.array(label)\n",
    "\n",
    "# create one common dataset for both men and women, clear and sort it\n",
    "df = pd.concat([df_women, df_men])\n",
    "df.drop(['ID', 'NumberOfPersons', 'global_id', 'Year', 'Month', ' '], axis=1, inplace=True)\n",
    "for i in df['X']:\n",
    "    if i.count(',') > 0 or i == 'Name':\n",
    "        df = df.drop(df[df['X'] == i].index)\n",
    "\n",
    "df = df[~df.X.duplicated(keep='first')]\n",
    "df.sort_values('X', inplace=True, ascending=True)\n",
    "\n",
    "\n",
    "def train(samples):\n",
    "    classes, freq = defaultdict(lambda:0), defaultdict(lambda:0)\n",
    "    for feats, label in samples:\n",
    "        classes[label] += 1                 # count classes frequencies\n",
    "        for feat in feats:\n",
    "            freq[label, feat] += 1          # count features frequencies\n",
    "\n",
    "    for label, feat in freq:                # normalize features frequencies\n",
    "        freq[label, feat] /= classes[label]\n",
    "    for c in classes:                       # normalize classes frequencies\n",
    "        classes[c] /= len(samples)\n",
    "\n",
    "    return classes, freq                    # return P(C) and P(O|C)\n",
    "\n",
    "def classify(classifier, feats):\n",
    "    classes, prob = classifier\n",
    "    return min(classes.keys(),              # calculate argmin(-log(C|O))\n",
    "        key = lambda cl: -log(classes[cl]) + \\\n",
    "            sum(-log(prob.get((cl,feat), 10**(-7))) for feat in feats))\n",
    "\n",
    "def get_features(sample): return (\n",
    "        'll: %s' % sample[-1],  # get last letter\n",
    "        'pll: %s' % sample[-2], # get pre-last letter\n",
    "        'fl: %s' % sample[0],  # get first letter           \n",
    "        )\n",
    "\n",
    "def test(classifier, test_set):\n",
    "    hits = 0\n",
    "    for feats, label in test_set:\n",
    "        if label == classify(classifier, feats):\n",
    "            hits += 1\n",
    "    return hits/len(test_set)\n",
    "\n",
    "features = [(get_features(x), y) for x, y in df.to_numpy()]\n",
    "c = len(features)//2\n",
    "train_set, test_set = features[:-c], features[-c:]\n",
    "\n",
    "classifier = train(train_set)\n",
    "print('Accuracy: ', test(classifier, test_set))\n",
    "\n",
    "name = input()\n",
    "print('gender: ', classify(classifier, get_features(name)))\n"
   ]
  },
  {
   "cell_type": "code",
   "execution_count": null,
   "metadata": {},
   "outputs": [],
   "source": []
  }
 ],
 "metadata": {
  "kernelspec": {
   "display_name": "Python 3",
   "language": "python",
   "name": "python3"
  },
  "language_info": {
   "codemirror_mode": {
    "name": "ipython",
    "version": 3
   },
   "file_extension": ".py",
   "mimetype": "text/x-python",
   "name": "python",
   "nbconvert_exporter": "python",
   "pygments_lexer": "ipython3",
   "version": "3.7.1"
  }
 },
 "nbformat": 4,
 "nbformat_minor": 2
}
