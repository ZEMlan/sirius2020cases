{
 "cells": [
  {
   "cell_type": "code",
   "execution_count": null,
   "metadata": {},
   "outputs": [],
   "source": [
    "n = int(input())\n",
    "rub = 'руб'\n",
    "\n",
    "if n%100 in range (5,20): # в первую очередь проверяем исключения, которые произносятся не в соответствии с правилами ниже\n",
    "    rub += 'лей'\n",
    "elif n%10 == 1: # числа, заканчивающиеся на 1, всегда произносятся одиннаково - в нашем случае с окончанием 'ль'\n",
    "    rub += 'ль'\n",
    "elif n%10 in range(1,5): # числа, заканчивающиеся на 2,3 или 4 всегда произносятся одиннаково - в нашем случае с окончанием 'ля'\n",
    "    rub += 'ля'\n",
    "else: # всё остальное произносится одиннаково\n",
    "    rub += 'лей'\n",
    "    \n",
    "print(n, rub)"
   ]
  }
 ],
 "metadata": {
  "kernelspec": {
   "display_name": "Python 3",
   "language": "python",
   "name": "python3"
  },
  "language_info": {
   "codemirror_mode": {
    "name": "ipython",
    "version": 3
   },
   "file_extension": ".py",
   "mimetype": "text/x-python",
   "name": "python",
   "nbconvert_exporter": "python",
   "pygments_lexer": "ipython3",
   "version": "3.7.1"
  }
 },
 "nbformat": 4,
 "nbformat_minor": 2
}
