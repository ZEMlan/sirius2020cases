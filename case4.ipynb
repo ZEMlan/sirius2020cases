{
 "cells": [
  {
   "cell_type": "code",
   "execution_count": null,
   "metadata": {},
   "outputs": [],
   "source": [
    "n = int(input())\n",
    "rub = 'руб'\n",
    "\n",
    "if n%100 in range (5,20):\n",
    "    rub += 'лей'\n",
    "elif n%10 == 1:\n",
    "    rub += 'ль'\n",
    "elif n%10 in range(1,5):\n",
    "    rub += 'ля'\n",
    "else:\n",
    "    rub += 'лей'\n",
    "    \n",
    "print(n, rub)"
   ]
  }
 ],
 "metadata": {
  "kernelspec": {
   "display_name": "Python 3",
   "language": "python",
   "name": "python3"
  },
  "language_info": {
   "codemirror_mode": {
    "name": "ipython",
    "version": 3
   },
   "file_extension": ".py",
   "mimetype": "text/x-python",
   "name": "python",
   "nbconvert_exporter": "python",
   "pygments_lexer": "ipython3",
   "version": "3.7.1"
  }
 },
 "nbformat": 4,
 "nbformat_minor": 2
}
